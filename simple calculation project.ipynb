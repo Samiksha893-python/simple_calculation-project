{
  "nbformat": 4,
  "nbformat_minor": 0,
  "metadata": {
    "colab": {
      "provenance": []
    },
    "kernelspec": {
      "name": "python3",
      "display_name": "Python 3"
    },
    "language_info": {
      "name": "python"
    }
  },
  "cells": [
    {
      "cell_type": "code",
      "execution_count": 3,
      "metadata": {
        "colab": {
          "base_uri": "https://localhost:8080/"
        },
        "id": "ER1kCKAl2W2e",
        "outputId": "f2249893-1d58-4b39-e9dd-8138bfdf7325"
      },
      "outputs": [
        {
          "name": "stdout",
          "output_type": "stream",
          "text": [
            "Simple Calculation Project\n",
            "enter your first number: 2\n",
            "enter your second number: 3\n",
            "choose the operations\n",
            "1 Additional (+) \n",
            "2 substraction (-) \n",
            "3 multiply (*) \n",
            "4 division (/) \n",
            "enter your choice (1, 2, 3,4): 1\n",
            "5.0\n",
            "Do you want again (yes or no) yes\n",
            "enter your first number: 3\n",
            "enter your second number: 4\n",
            "choose the operations\n",
            "1 Additional (+) \n",
            "2 substraction (-) \n",
            "3 multiply (*) \n",
            "4 division (/) \n",
            "enter your choice (1, 2, 3,4): 2\n",
            "-1.0\n",
            "Do you want again (yes or no) no\n"
          ]
        }
      ],
      "source": [
        "print(\"Simple Calculation Project\")\n",
        "while True:\n",
        "  num1 = float(input(\"enter your first number: \"))\n",
        "  num2 = float(input(\"enter your second number: \"))\n",
        "\n",
        "  print(\"choose the operations\")\n",
        "  print(\"1 Additional (+) \")\n",
        "  print(\"2 substraction (-) \")\n",
        "  print(\"3 multiply (*) \")\n",
        "  print(\"4 division (/) \")\n",
        "  choice = input(\"enter your choice (1, 2, 3,4): \")\n",
        "  if choice == \"1\":\n",
        "    print(num1 + num2)\n",
        "  elif choice == \"2\":\n",
        "    print(num1 - num2)\n",
        "  elif choice == \"3\":\n",
        "    print(num1 * num2)\n",
        "  elif choice == \"4\":\n",
        "    print(num1 / num2)\n",
        "  else:\n",
        "    print(\"invalid input\")\n",
        "  user = input(\"Do you want again (yes or no) \")\n",
        "  if user == \"no\":\n",
        "    break"
      ]
    },
    {
      "cell_type": "code",
      "source": [],
      "metadata": {
        "id": "cpnSdYx0JHDu"
      },
      "execution_count": null,
      "outputs": []
    }
  ]
}